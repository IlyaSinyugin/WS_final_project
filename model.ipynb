{
 "cells": [
  {
   "cell_type": "markdown",
   "metadata": {},
   "source": [
    "**Rich-Get-Richer from an economic perspective**\n",
    "\n",
    "Imagine that a large group of people are given an amount of 100 euros each, under the condition that they must keep it invested in a rather volatile and unproductive stockmarket. Per time period, each person independently makes their own investments (they could invest a certain percentage of their money, ranging from 0 to 100%), with an average return of 0%. This means the following: each time period half of the population (randomly chosen) has a gain of p% (capital multiplied by 1 + p) and the other half of the people experiences a reduction of capital with factor 1/(1 + p), so the total amount of capital stays the same.\n",
    "\n",
    "Authors: \n",
    "Vladimir Halchenko (s2426447) and Ilya Sinyugin (s2586967) "
   ]
  },
  {
   "cell_type": "code",
   "execution_count": 3846,
   "metadata": {},
   "outputs": [],
   "source": [
    "from matplotlib import pyplot\n",
    "import numpy\n",
    "import pandas\n",
    "import random\n",
    "import math\n",
    "from typing import Callable, Any, List, Final\n",
    "from decimal import Decimal"
   ]
  },
  {
   "cell_type": "code",
   "execution_count": 3847,
   "metadata": {},
   "outputs": [],
   "source": [
    "def gain(a: float, p: float) -> float:\n",
    "    '''\n",
    "    Model (in the general form):\n",
    "    a is an initial capital.\n",
    "    p is a %. p є [0; 1]\n",
    "    '''\n",
    "    if not(p >= 0 and p <= 1):\n",
    "        raise Exception(\"Wrong arguments provided!\")\n",
    "    else:\n",
    "        a = a * (1 + p)\n",
    "        return a\n",
    "\n",
    "\n",
    "\n",
    "def loss(a: float, p: float) -> float:\n",
    "    '''\n",
    "    Model (in the general form):\n",
    "    a is an initial capital.\n",
    "    p is a %. p є [0; 1]\n",
    "    '''\n",
    "    if not(p >= 0 and p <= 1):\n",
    "        raise Exception(\"Wrong arguments provided!\")\n",
    "    else:\n",
    "        a = a * 1/(1+p)\n",
    "        return a\n",
    "\n",
    "\n",
    "capital = [100]*500\n",
    "def run_model(years: int) -> List[float]:\n",
    "    '''\n",
    "    Нears is a number of years to run the model for. 1 year = 1 time period\n",
    "    '''\n",
    "    for i in range(years):\n",
    "        # Shuffle the list of population's capital \n",
    "        random.shuffle(capital)\n",
    "        # pick out the first 50 as winners and the last 50 as losers\n",
    "        winners = capital[:int(len(capital)/2)]\n",
    "        losers = capital[int(len(capital)/2):]\n",
    "        for index in range(int(len(capital)/2)):\n",
    "            # interest rate of 12%\n",
    "            capital[index] = gain(winners[index], 0.12)\n",
    "            capital[index + int(len(capital)/2)] = loss(losers[index], 0.12)\n",
    "    return capital"
   ]
  },
  {
   "cell_type": "code",
   "execution_count": 3848,
   "metadata": {},
   "outputs": [],
   "source": [
    "YEARS = 65"
   ]
  },
  {
   "cell_type": "markdown",
   "metadata": {},
   "source": []
  },
  {
   "cell_type": "code",
   "execution_count": 3849,
   "metadata": {},
   "outputs": [],
   "source": [
    "# Code taken from Weeks 3-4 project (question 5) viewcount_distribution.py and adapted \n",
    "# to the current model. \n",
    "def plot_powerlaw_linear(capital: List[Decimal], filename: str) -> None:\n",
    "    '''\n",
    "    Plot the distribution of the capital against the number of people\n",
    "    '''\n",
    "    histogram, edges = numpy.histogram(capital, bins=18, density=False)\n",
    "    pyplot.xlabel('Number of people')\n",
    "    pyplot.ylabel('Capital')\n",
    "    pyplot.plot(histogram, edges[:-1])\n",
    "    pyplot.savefig(filename)\n",
    "    pyplot.clf()\n",
    "\n",
    "def plot_log(capital: List[Decimal], filename: str) -> None:\n",
    "    '''\n",
    "    Plot the distribution of the log of capital against the log of the number of people\n",
    "    '''\n",
    "    histogram, edges = numpy.histogram(capital, density=False)\n",
    "    pyplot.xlabel('Log of number of people')\n",
    "    pyplot.ylabel('Log of capital')\n",
    "    # the for loop is used to avoid any -inf in the model, which occur by taking a log \n",
    "    # of a very small number, close to 0    \n",
    "    for i in range(len(histogram)):\n",
    "        histogram[i] += 1\n",
    "    #remove the only extreme outlier, that shall be ignored\n",
    "    histogram = histogram[1:]\n",
    "    edges = edges[1:]\n",
    "    log_histogram = numpy.log10(histogram)\n",
    "    # remove the last bin edge to match the histogram size\n",
    "    log_bin_edges = numpy.log10(edges[:-1]) \n",
    "    pyplot.scatter(log_histogram, log_bin_edges)\n",
    "    # plot a line of best fit \n",
    "    gradient, intercept = numpy.polyfit(log_histogram, log_bin_edges, 1)\n",
    "    pyplot.plot(log_histogram, gradient*log_histogram + intercept, linestyle=\"dashed\", linewidth=2)\n",
    "    pyplot.savefig(filename)\n",
    "    pyplot.clf()"
   ]
  },
  {
   "cell_type": "code",
   "execution_count": 3850,
   "metadata": {},
   "outputs": [],
   "source": [
    "# Code taken from Weeks 3-4 project (question 5) viewcount_distribution.py and adapted\n",
    "# to the current model.\n",
    "def plot_powerlaw_linear_percentage(capital: List[Decimal], filename: str) -> None:\n",
    "    '''\n",
    "    Plot the distribution of the percentage of capital against the percentage of people\n",
    "    '''\n",
    "    total = math.fsum(capital)\n",
    "    percentages = [x/total*100 for x in capital]\n",
    "    histogram, edges = numpy.histogram(percentages, bins=13, density=True)\n",
    "    histogram = [x/len(capital)*100 for x in histogram]\n",
    "    pyplot.xlabel('Percentage of people')\n",
    "    pyplot.ylabel('Percentage of capital')\n",
    "    pyplot.plot(histogram, edges[:-1])\n",
    "    pyplot.savefig(filename)\n",
    "    pyplot.clf()"
   ]
  },
  {
   "cell_type": "code",
   "execution_count": 3851,
   "metadata": {},
   "outputs": [
    {
     "data": {
      "text/plain": [
       "<Figure size 432x288 with 0 Axes>"
      ]
     },
     "metadata": {},
     "output_type": "display_data"
    }
   ],
   "source": [
    "plot_powerlaw_linear(run_model(YEARS), \"powerlaw_linear.jpg\")\n",
    "plot_log(capital, \"log.jpg\")\n",
    "plot_powerlaw_linear_percentage(capital, \"powerlaw_linear_percentage.jpg\")"
   ]
  },
  {
   "cell_type": "code",
   "execution_count": 3852,
   "metadata": {},
   "outputs": [
    {
     "data": {
      "text/plain": [
       "<Figure size 432x288 with 0 Axes>"
      ]
     },
     "metadata": {},
     "output_type": "display_data"
    }
   ],
   "source": [
    "# Progressive Income Tax Model \n",
    "def gain_with_tax(a: float, p: float, capital: List[float]) -> float: \n",
    "    '''\n",
    "    Model (in the general form):\n",
    "    a is an initial capital.\n",
    "    p is a %. p є [0; 1]\n",
    "    '''\n",
    "    if not(p >= 0 and p <= 1):\n",
    "        raise Exception(\"Wrong arguments provided!\")\n",
    "    else:\n",
    "        # make a list of capitals in the descending order \n",
    "        capital_sorted = sorted(capital, reverse=True)\n",
    "        index = capital_sorted.index(a)\n",
    "        # not taxing those, who lost significant amount of their investments\n",
    "        if a < 100: \n",
    "            tax = 0\n",
    "        else: \n",
    "            # check the index of the capital in the sorted list\n",
    "            # from richest to poorest\n",
    "            tax = min((1-(index/len(capital)))*0.05, 0.05)\n",
    "        a = a * (1+p) * (1-tax)\n",
    "        return max(a, 0)\n",
    "        \n",
    "# New Model with income tax \n",
    "def run_model_with_tax(years: int) -> List[float]:\n",
    "    '''\n",
    "    years is a number of years to run the model for. 1 year = 1 time period\n",
    "    '''\n",
    "    for i in range(years):\n",
    "        # Shuffle the list of population's capital \n",
    "        random.shuffle(capital)\n",
    "        # pick out the first 50 as winners and the last 50 as losers\n",
    "        winners = capital[:int(len(capital)/2)]\n",
    "        losers = capital[int(len(capital)/2):]\n",
    "        for index in range(int(len(capital)/2)):\n",
    "            # interest rate of 12%\n",
    "            capital[index] = gain_with_tax(winners[index], 0.12, capital)\n",
    "            capital[index + int(len(capital)/2)] = loss(losers[index], 0.12)\n",
    "    return capital\n",
    "\n",
    "def plot_log_tax(capital: List[Decimal], filename: str) -> None:\n",
    "    '''\n",
    "    Plot the distribution of the log of capital against the log of the number of people\n",
    "    '''\n",
    "    histogram, edges = numpy.histogram(capital, density=False)\n",
    "    pyplot.xlabel('Log of number of people')\n",
    "    pyplot.ylabel('Log of capital')\n",
    "    for i in range(len(histogram)):\n",
    "        histogram[i] += 1\n",
    "    #remove an extreme outlier \n",
    "    histogram = histogram[1:]\n",
    "    edges = edges[1:]\n",
    "    log_histogram = numpy.log10(histogram)\n",
    "    log_bin_edges = numpy.log10(edges[:-1]) # since it returns an extra bin edge\n",
    "    pyplot.scatter(log_histogram, log_bin_edges)\n",
    "    # Here a line of best fit is not plotted, since it is observable by the histogram \n",
    "    # that the distribution is not strictly linear\n",
    "    pyplot.savefig(filename)\n",
    "    pyplot.clf()\n",
    "\n",
    "\n",
    "capital = [100]*500\n",
    "plot_powerlaw_linear(run_model_with_tax(YEARS), \"powerlaw_linear_with_tax.jpg\")\n",
    "plot_powerlaw_linear_percentage(capital, \"powerlaw_linear_percentage_with_tax.jpg\")\n",
    "plot_log_tax(capital, \"log_with_tax.jpg\")"
   ]
  }
 ],
 "metadata": {
  "kernelspec": {
   "display_name": "Python 3",
   "language": "python",
   "name": "python3"
  },
  "language_info": {
   "codemirror_mode": {
    "name": "ipython",
    "version": 3
   },
   "file_extension": ".py",
   "mimetype": "text/x-python",
   "name": "python",
   "nbconvert_exporter": "python",
   "pygments_lexer": "ipython3",
   "version": "3.8.10"
  },
  "orig_nbformat": 4,
  "vscode": {
   "interpreter": {
    "hash": "de9c6d5912fbe6f25d7020cc9001042ca894200fb78844a4c9c602708a3ddb8f"
   }
  }
 },
 "nbformat": 4,
 "nbformat_minor": 2
}
